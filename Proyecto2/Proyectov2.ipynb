{
 "cells": [
  {
   "cell_type": "markdown",
   "id": "a5c9e860-0c77-4c2f-996b-d65ac49ab122",
   "metadata": {},
   "source": [
    "# Proyecto 2: Primera parte\n",
    "Curso Ingeniería de Características\n",
    "\n",
    "\n",
    "**Estephania Pivac Alcaraz**\n",
    "\n",
    "---\n",
    "\n",
    "**Problema de interés:**\n",
    "Estudar la relación que existe entre la cantidad de accidentes de tránsito y la inversión a la conservación de carreteras y presupuesto gubernamental."
   ]
  },
  {
   "cell_type": "markdown",
   "id": "baf72975-f36c-4718-a9bb-308f67ad250b",
   "metadata": {
    "tags": []
   },
   "source": [
    "## 1. Abriendo las bases de datos\n",
    "\n",
    "Abrimos las bases de datos que estaremos utilizando. Para esto construiremos los dataframes necesarios así como también limpiaremos y analizaremos dichos datos.\n",
    "\n",
    "Comenzamos importando librerías que necesitaremos"
   ]
  },
  {
   "cell_type": "code",
   "execution_count": 1,
   "id": "e448f9f7-7d2b-4bd2-8c15-ab4d0f188f6c",
   "metadata": {},
   "outputs": [],
   "source": [
    "# Instalamos Pandas-profiling\n",
    "#pip install Pandas-Profiling\n",
    "\n",
    "# Importamos algunas librerías que vamos a necesitar\n",
    "import os  # Para manejo de archivos y directorios\n",
    "import urllib.request # Una forma estandard de descargar datos\n",
    "# import requests # Otra forma no de las librerías de uso comun\n",
    "\n",
    "import datetime # Fecha de descarga\n",
    "import pandas as pd # Solo para ver el archivo descargado\n",
    "import zipfile # Descompresión de archivos\n",
    "import numpy as np\n",
    "from pandas_profiling import ProfileReport"
   ]
  },
  {
   "cell_type": "markdown",
   "id": "1679a67d-4b89-416d-9019-004f760e6995",
   "metadata": {},
   "source": [
    "### 1.1 Tidy_accidentes: Base de datos de accidentes de tránsito\n",
    "\n",
    "Abrimos el archivo con la información de los accidentes de tránsito en México desde 2017 hasta 2021. Generamos el dataframe con el que estaremos trabajando y convertimos cada columna al tipo de dato adecuado."
   ]
  },
  {
   "cell_type": "code",
   "execution_count": 2,
   "id": "6a6636d2-bef6-4432-8e1c-bdfb074328bf",
   "metadata": {},
   "outputs": [
    {
     "name": "stdout",
     "output_type": "stream",
     "text": [
      "<class 'pandas.core.frame.DataFrame'>\n",
      "RangeIndex: 81848 entries, 0 to 81847\n",
      "Data columns (total 8 columns):\n",
      " #   Column      Non-Null Count  Dtype         \n",
      "---  ------      --------------  -----         \n",
      " 0   ID_ENTIDAD  81848 non-null  int64         \n",
      " 1   ANIO        81848 non-null  int64         \n",
      " 2   TIPACCID    81848 non-null  category      \n",
      " 3   CAUSAACCI   81848 non-null  category      \n",
      " 4   CAPAROD     81848 non-null  category      \n",
      " 5   CLASACC     81848 non-null  category      \n",
      " 6   FECHA       81848 non-null  datetime64[ns]\n",
      " 7   EDAD        81848 non-null  category      \n",
      "dtypes: category(5), datetime64[ns](1), int64(2)\n",
      "memory usage: 2.3 MB\n"
     ]
    }
   ],
   "source": [
    "# Generamos el dataframe de accidentes\n",
    "tidy_accidentes = pd.read_csv(\"tidy_accidentes.csv\", index_col=False)\n",
    "\n",
    "# Convertimos cada variable de acuerdo a su tipo\n",
    "# Categoricas\n",
    "tidy_accidentes = tidy_accidentes.astype({'TIPACCID':'category', 'CAUSAACCI':'category', 'CAPAROD':'category', 'CLASACC':'category', 'EDAD':'category'})\n",
    "\n",
    "# Fechas\n",
    "tidy_accidentes['FECHA'] = pd.to_datetime(tidy_accidentes['FECHA'], format='%Y/%m/%d', errors='coerce')\n",
    "tidy_accidentes.info()"
   ]
  },
  {
   "cell_type": "markdown",
   "id": "d96f0ed8-d60e-490f-ab2a-52347f54d930",
   "metadata": {},
   "source": [
    "Observemos la estructura de la base de datos:"
   ]
  },
  {
   "cell_type": "code",
   "execution_count": 3,
   "id": "b53f532f-50a5-426a-8e0b-474f54ca324b",
   "metadata": {},
   "outputs": [
    {
     "data": {
      "text/html": [
       "<div>\n",
       "<style scoped>\n",
       "    .dataframe tbody tr th:only-of-type {\n",
       "        vertical-align: middle;\n",
       "    }\n",
       "\n",
       "    .dataframe tbody tr th {\n",
       "        vertical-align: top;\n",
       "    }\n",
       "\n",
       "    .dataframe thead th {\n",
       "        text-align: right;\n",
       "    }\n",
       "</style>\n",
       "<table border=\"1\" class=\"dataframe\">\n",
       "  <thead>\n",
       "    <tr style=\"text-align: right;\">\n",
       "      <th></th>\n",
       "      <th>ID_ENTIDAD</th>\n",
       "      <th>ANIO</th>\n",
       "      <th>TIPACCID</th>\n",
       "      <th>CAUSAACCI</th>\n",
       "      <th>CAPAROD</th>\n",
       "      <th>CLASACC</th>\n",
       "      <th>FECHA</th>\n",
       "      <th>EDAD</th>\n",
       "    </tr>\n",
       "  </thead>\n",
       "  <tbody>\n",
       "    <tr>\n",
       "      <th>0</th>\n",
       "      <td>1</td>\n",
       "      <td>2021</td>\n",
       "      <td>Salida del camino</td>\n",
       "      <td>Conductor</td>\n",
       "      <td>Pavimentada</td>\n",
       "      <td>Sólo daños</td>\n",
       "      <td>2021-01-03</td>\n",
       "      <td>28-37</td>\n",
       "    </tr>\n",
       "    <tr>\n",
       "      <th>1</th>\n",
       "      <td>1</td>\n",
       "      <td>2021</td>\n",
       "      <td>Salida del camino</td>\n",
       "      <td>Conductor</td>\n",
       "      <td>Pavimentada</td>\n",
       "      <td>No fatal</td>\n",
       "      <td>2021-01-04</td>\n",
       "      <td>Menor de edad</td>\n",
       "    </tr>\n",
       "    <tr>\n",
       "      <th>2</th>\n",
       "      <td>1</td>\n",
       "      <td>2021</td>\n",
       "      <td>Colisión con vehículo automotor</td>\n",
       "      <td>Conductor</td>\n",
       "      <td>Pavimentada</td>\n",
       "      <td>Sólo daños</td>\n",
       "      <td>2021-01-17</td>\n",
       "      <td>48-57</td>\n",
       "    </tr>\n",
       "    <tr>\n",
       "      <th>3</th>\n",
       "      <td>1</td>\n",
       "      <td>2021</td>\n",
       "      <td>Salida del camino</td>\n",
       "      <td>Conductor</td>\n",
       "      <td>Pavimentada</td>\n",
       "      <td>Sólo daños</td>\n",
       "      <td>2021-01-26</td>\n",
       "      <td>Se fugó</td>\n",
       "    </tr>\n",
       "    <tr>\n",
       "      <th>4</th>\n",
       "      <td>1</td>\n",
       "      <td>2021</td>\n",
       "      <td>Colisión con vehículo automotor</td>\n",
       "      <td>Conductor</td>\n",
       "      <td>Pavimentada</td>\n",
       "      <td>Sólo daños</td>\n",
       "      <td>2021-01-28</td>\n",
       "      <td>38-47</td>\n",
       "    </tr>\n",
       "  </tbody>\n",
       "</table>\n",
       "</div>"
      ],
      "text/plain": [
       "   ID_ENTIDAD  ANIO                         TIPACCID  CAUSAACCI      CAPAROD  \\\n",
       "0           1  2021                Salida del camino  Conductor  Pavimentada   \n",
       "1           1  2021                Salida del camino  Conductor  Pavimentada   \n",
       "2           1  2021  Colisión con vehículo automotor  Conductor  Pavimentada   \n",
       "3           1  2021                Salida del camino  Conductor  Pavimentada   \n",
       "4           1  2021  Colisión con vehículo automotor  Conductor  Pavimentada   \n",
       "\n",
       "      CLASACC      FECHA           EDAD  \n",
       "0  Sólo daños 2021-01-03          28-37  \n",
       "1    No fatal 2021-01-04  Menor de edad  \n",
       "2  Sólo daños 2021-01-17          48-57  \n",
       "3  Sólo daños 2021-01-26        Se fugó  \n",
       "4  Sólo daños 2021-01-28          38-47  "
      ]
     },
     "execution_count": 3,
     "metadata": {},
     "output_type": "execute_result"
    }
   ],
   "source": [
    "tidy_accidentes.head()"
   ]
  },
  {
   "cell_type": "markdown",
   "id": "08a0f3d9-0619-4bcb-ab7e-dc5610dbc316",
   "metadata": {},
   "source": [
    "Veamos que esta base de datos no contiene datos faltantes:"
   ]
  },
  {
   "cell_type": "code",
   "execution_count": 4,
   "id": "f8fd1430-3d52-44fb-a787-d7e0efe7a6b2",
   "metadata": {},
   "outputs": [
    {
     "data": {
      "text/plain": [
       "ID_ENTIDAD    0\n",
       "ANIO          0\n",
       "TIPACCID      0\n",
       "CAUSAACCI     0\n",
       "CAPAROD       0\n",
       "CLASACC       0\n",
       "FECHA         0\n",
       "EDAD          0\n",
       "dtype: int64"
      ]
     },
     "execution_count": 4,
     "metadata": {},
     "output_type": "execute_result"
    }
   ],
   "source": [
    "tidy_accidentes.isnull().sum()"
   ]
  },
  {
   "cell_type": "markdown",
   "id": "4d8e57b3-2e51-4de0-9ce1-50a93c5f7e77",
   "metadata": {},
   "source": [
    "### 1.2 Tidy conservación: Base de datos de conservación de carreteras del año 2019"
   ]
  },
  {
   "cell_type": "markdown",
   "id": "fed2a978-4239-40c9-a63c-5fc47dce02b2",
   "metadata": {},
   "source": [
    "Abrimos el archivo csv y lo guardamos en formato de dataframe"
   ]
  },
  {
   "cell_type": "code",
   "execution_count": 5,
   "id": "52baa097-ce89-4ab8-a162-d7a8b1b81d97",
   "metadata": {},
   "outputs": [
    {
     "name": "stdout",
     "output_type": "stream",
     "text": [
      "<class 'pandas.core.frame.DataFrame'>\n",
      "RangeIndex: 1859 entries, 0 to 1858\n",
      "Data columns (total 4 columns):\n",
      " #   Column                 Non-Null Count  Dtype   \n",
      "---  ------                 --------------  -----   \n",
      " 0   ID_ENTIDAD             1859 non-null   int64   \n",
      " 1   ENTIDAD                1859 non-null   category\n",
      " 2   TOTAL_CONSERVACION     1859 non-null   float64 \n",
      " 3   PROGRAMA_CONSERVACION  1859 non-null   category\n",
      "dtypes: category(2), float64(1), int64(1)\n",
      "memory usage: 34.7 KB\n"
     ]
    }
   ],
   "source": [
    "# Generamos el dataframe de conservación\n",
    "tidy_conservacion = pd.read_csv(\"tidy_conservacion.csv\", index_col=False)\n",
    "tidy_conservacion\n",
    "\n",
    "# Convertimos cada variable de acuerdo a su tipo\n",
    "# Categoricas\n",
    "tidy_conservacion = tidy_conservacion.astype({'ENTIDAD':'category', 'PROGRAMA_CONSERVACION':'category'})\n",
    "tidy_conservacion.info()"
   ]
  },
  {
   "cell_type": "code",
   "execution_count": 6,
   "id": "dcf4d960-fb32-4065-a915-2f485a111c00",
   "metadata": {},
   "outputs": [
    {
     "data": {
      "text/plain": [
       "ID_ENTIDAD               0\n",
       "ENTIDAD                  0\n",
       "TOTAL_CONSERVACION       0\n",
       "PROGRAMA_CONSERVACION    0\n",
       "dtype: int64"
      ]
     },
     "execution_count": 6,
     "metadata": {},
     "output_type": "execute_result"
    }
   ],
   "source": [
    "tidy_conservacion.isnull().sum()"
   ]
  },
  {
   "cell_type": "code",
   "execution_count": 7,
   "id": "7216e90f-1d5f-4655-b094-f6186a4f9d2d",
   "metadata": {},
   "outputs": [
    {
     "data": {
      "text/html": [
       "<div>\n",
       "<style scoped>\n",
       "    .dataframe tbody tr th:only-of-type {\n",
       "        vertical-align: middle;\n",
       "    }\n",
       "\n",
       "    .dataframe tbody tr th {\n",
       "        vertical-align: top;\n",
       "    }\n",
       "\n",
       "    .dataframe thead th {\n",
       "        text-align: right;\n",
       "    }\n",
       "</style>\n",
       "<table border=\"1\" class=\"dataframe\">\n",
       "  <thead>\n",
       "    <tr style=\"text-align: right;\">\n",
       "      <th></th>\n",
       "      <th>ID_ENTIDAD</th>\n",
       "      <th>ENTIDAD</th>\n",
       "      <th>TOTAL_CONSERVACION</th>\n",
       "      <th>PROGRAMA_CONSERVACION</th>\n",
       "    </tr>\n",
       "  </thead>\n",
       "  <tbody>\n",
       "    <tr>\n",
       "      <th>0</th>\n",
       "      <td>9</td>\n",
       "      <td>CIUDAD DE MEXICO</td>\n",
       "      <td>1.294363e+08</td>\n",
       "      <td>Estudios y/o Proyectos</td>\n",
       "    </tr>\n",
       "    <tr>\n",
       "      <th>1</th>\n",
       "      <td>9</td>\n",
       "      <td>CIUDAD DE MEXICO</td>\n",
       "      <td>1.091483e+08</td>\n",
       "      <td>Programa Asociación Público Privada de Conserv...</td>\n",
       "    </tr>\n",
       "    <tr>\n",
       "      <th>2</th>\n",
       "      <td>9</td>\n",
       "      <td>CIUDAD DE MEXICO</td>\n",
       "      <td>4.997081e+07</td>\n",
       "      <td>Programa Asociación Público Privada de Conserv...</td>\n",
       "    </tr>\n",
       "    <tr>\n",
       "      <th>3</th>\n",
       "      <td>9</td>\n",
       "      <td>CIUDAD DE MEXICO</td>\n",
       "      <td>8.514464e+07</td>\n",
       "      <td>Programa Asociación Público Privada de Conserv...</td>\n",
       "    </tr>\n",
       "    <tr>\n",
       "      <th>4</th>\n",
       "      <td>9</td>\n",
       "      <td>CIUDAD DE MEXICO</td>\n",
       "      <td>2.415727e+07</td>\n",
       "      <td>Programa Asociación Público Privada de Conserv...</td>\n",
       "    </tr>\n",
       "    <tr>\n",
       "      <th>...</th>\n",
       "      <td>...</td>\n",
       "      <td>...</td>\n",
       "      <td>...</td>\n",
       "      <td>...</td>\n",
       "    </tr>\n",
       "    <tr>\n",
       "      <th>1854</th>\n",
       "      <td>32</td>\n",
       "      <td>ZACATECAS</td>\n",
       "      <td>6.094561e+06</td>\n",
       "      <td>Conservación Rutinaria</td>\n",
       "    </tr>\n",
       "    <tr>\n",
       "      <th>1855</th>\n",
       "      <td>32</td>\n",
       "      <td>ZACATECAS</td>\n",
       "      <td>5.716601e+06</td>\n",
       "      <td>Conservación Rutinaria</td>\n",
       "    </tr>\n",
       "    <tr>\n",
       "      <th>1856</th>\n",
       "      <td>32</td>\n",
       "      <td>ZACATECAS</td>\n",
       "      <td>1.633732e+06</td>\n",
       "      <td>Otros Subprogramas</td>\n",
       "    </tr>\n",
       "    <tr>\n",
       "      <th>1857</th>\n",
       "      <td>32</td>\n",
       "      <td>ZACATECAS</td>\n",
       "      <td>2.625802e+06</td>\n",
       "      <td>Otros Subprogramas</td>\n",
       "    </tr>\n",
       "    <tr>\n",
       "      <th>1858</th>\n",
       "      <td>32</td>\n",
       "      <td>ZACATECAS</td>\n",
       "      <td>2.625802e+06</td>\n",
       "      <td>Otros Subprogramas</td>\n",
       "    </tr>\n",
       "  </tbody>\n",
       "</table>\n",
       "<p>1859 rows × 4 columns</p>\n",
       "</div>"
      ],
      "text/plain": [
       "      ID_ENTIDAD           ENTIDAD  TOTAL_CONSERVACION  \\\n",
       "0              9  CIUDAD DE MEXICO        1.294363e+08   \n",
       "1              9  CIUDAD DE MEXICO        1.091483e+08   \n",
       "2              9  CIUDAD DE MEXICO        4.997081e+07   \n",
       "3              9  CIUDAD DE MEXICO        8.514464e+07   \n",
       "4              9  CIUDAD DE MEXICO        2.415727e+07   \n",
       "...          ...               ...                 ...   \n",
       "1854          32         ZACATECAS        6.094561e+06   \n",
       "1855          32         ZACATECAS        5.716601e+06   \n",
       "1856          32         ZACATECAS        1.633732e+06   \n",
       "1857          32         ZACATECAS        2.625802e+06   \n",
       "1858          32         ZACATECAS        2.625802e+06   \n",
       "\n",
       "                                  PROGRAMA_CONSERVACION  \n",
       "0                               Estudios y/o Proyectos   \n",
       "1     Programa Asociación Público Privada de Conserv...  \n",
       "2     Programa Asociación Público Privada de Conserv...  \n",
       "3     Programa Asociación Público Privada de Conserv...  \n",
       "4     Programa Asociación Público Privada de Conserv...  \n",
       "...                                                 ...  \n",
       "1854                             Conservación Rutinaria  \n",
       "1855                             Conservación Rutinaria  \n",
       "1856                                 Otros Subprogramas  \n",
       "1857                                 Otros Subprogramas  \n",
       "1858                                 Otros Subprogramas  \n",
       "\n",
       "[1859 rows x 4 columns]"
      ]
     },
     "execution_count": 7,
     "metadata": {},
     "output_type": "execute_result"
    }
   ],
   "source": [
    "tidy_conservacion"
   ]
  },
  {
   "cell_type": "code",
   "execution_count": 8,
   "id": "67899f73-1d44-4e26-b23f-1a98b78e8ed0",
   "metadata": {},
   "outputs": [
    {
     "data": {
      "text/plain": [
       "Conservación Periódica                                  721\n",
       "Conservación Rutinaria                                  632\n",
       "Señalamiento                                            234\n",
       "Reconstrucción                                          125\n",
       "Otros Subprogramas                                       80\n",
       "Coparticipación FONDEN                                   26\n",
       "Conservación Rutinaria                                   14\n",
       "Programa Asociación Público Privada de Conservación      11\n",
       "Programa Asociación Público Privada de Conservación       7\n",
       "Señalamiento                                              4\n",
       "Contratos Plurianuales de Conservación de Carreteras      2\n",
       "Reconstrucción                                            2\n",
       "Estudios y/o Proyectos                                    1\n",
       "Name: PROGRAMA_CONSERVACION, dtype: int64"
      ]
     },
     "execution_count": 8,
     "metadata": {},
     "output_type": "execute_result"
    }
   ],
   "source": [
    "tidy_conservacion['PROGRAMA_CONSERVACION'].value_counts()"
   ]
  },
  {
   "cell_type": "markdown",
   "id": "82d09f5d-12fa-4b01-a8b0-1bba29457a0c",
   "metadata": {},
   "source": [
    "### 1.3 Budget transparency: Base de datos sobre el presupuesto público aprobado de 2013 a 2021"
   ]
  },
  {
   "cell_type": "code",
   "execution_count": 9,
   "id": "21ae2efa-f54a-4d31-adf6-eacc10ea894a",
   "metadata": {},
   "outputs": [
    {
     "name": "stdout",
     "output_type": "stream",
     "text": [
      "<class 'pandas.core.frame.DataFrame'>\n",
      "RangeIndex: 288 entries, 0 to 287\n",
      "Data columns (total 6 columns):\n",
      " #   Column            Non-Null Count  Dtype         \n",
      "---  ------            --------------  -----         \n",
      " 0   State ID          288 non-null    int64         \n",
      " 1   State             288 non-null    category      \n",
      " 2   Year              288 non-null    datetime64[ns]\n",
      " 3   Expenses Type ID  288 non-null    category      \n",
      " 4   Expenses Type     288 non-null    object        \n",
      " 5   Amount Approved   288 non-null    int64         \n",
      "dtypes: category(2), datetime64[ns](1), int64(2), object(1)\n",
      "memory usage: 11.1+ KB\n"
     ]
    }
   ],
   "source": [
    "# Generamos el dataframe de presupuesto\n",
    "df_budget = pd.read_csv(\"budget_transparency.csv\", index_col=False)\n",
    "df_budget\n",
    "\n",
    "# Convertimos cada variable de acuerdo a su tipo\n",
    "# Categoricas\n",
    "df_budget = df_budget.astype({'State':'category', 'Expenses Type ID':'category'})\n",
    "\n",
    "# Convertimos Year a datetime\n",
    "df_budget['Year'] = pd.to_datetime(df_budget['Year'], format='%Y', errors='coerce')\n",
    "\n",
    "df_budget.info()"
   ]
  },
  {
   "cell_type": "code",
   "execution_count": 10,
   "id": "597471e5-10ed-4f7b-92dc-b3c880ae7887",
   "metadata": {},
   "outputs": [
    {
     "data": {
      "text/html": [
       "<div>\n",
       "<style scoped>\n",
       "    .dataframe tbody tr th:only-of-type {\n",
       "        vertical-align: middle;\n",
       "    }\n",
       "\n",
       "    .dataframe tbody tr th {\n",
       "        vertical-align: top;\n",
       "    }\n",
       "\n",
       "    .dataframe thead th {\n",
       "        text-align: right;\n",
       "    }\n",
       "</style>\n",
       "<table border=\"1\" class=\"dataframe\">\n",
       "  <thead>\n",
       "    <tr style=\"text-align: right;\">\n",
       "      <th></th>\n",
       "      <th>State ID</th>\n",
       "      <th>State</th>\n",
       "      <th>Year</th>\n",
       "      <th>Expenses Type ID</th>\n",
       "      <th>Expenses Type</th>\n",
       "      <th>Amount Approved</th>\n",
       "    </tr>\n",
       "  </thead>\n",
       "  <tbody>\n",
       "    <tr>\n",
       "      <th>0</th>\n",
       "      <td>1</td>\n",
       "      <td>Aguascalientes</td>\n",
       "      <td>2013-01-01</td>\n",
       "      <td>8</td>\n",
       "      <td>Gasto de Obra Pública</td>\n",
       "      <td>1511908040</td>\n",
       "    </tr>\n",
       "    <tr>\n",
       "      <th>1</th>\n",
       "      <td>1</td>\n",
       "      <td>Aguascalientes</td>\n",
       "      <td>2014-01-01</td>\n",
       "      <td>8</td>\n",
       "      <td>Gasto de Obra Pública</td>\n",
       "      <td>1865135779</td>\n",
       "    </tr>\n",
       "    <tr>\n",
       "      <th>2</th>\n",
       "      <td>1</td>\n",
       "      <td>Aguascalientes</td>\n",
       "      <td>2015-01-01</td>\n",
       "      <td>8</td>\n",
       "      <td>Gasto de Obra Pública</td>\n",
       "      <td>1659723400</td>\n",
       "    </tr>\n",
       "    <tr>\n",
       "      <th>3</th>\n",
       "      <td>1</td>\n",
       "      <td>Aguascalientes</td>\n",
       "      <td>2016-01-01</td>\n",
       "      <td>8</td>\n",
       "      <td>Gasto de Obra Pública</td>\n",
       "      <td>1717532284</td>\n",
       "    </tr>\n",
       "    <tr>\n",
       "      <th>4</th>\n",
       "      <td>1</td>\n",
       "      <td>Aguascalientes</td>\n",
       "      <td>2017-01-01</td>\n",
       "      <td>8</td>\n",
       "      <td>Gasto de Obra Pública</td>\n",
       "      <td>1230564370</td>\n",
       "    </tr>\n",
       "    <tr>\n",
       "      <th>...</th>\n",
       "      <td>...</td>\n",
       "      <td>...</td>\n",
       "      <td>...</td>\n",
       "      <td>...</td>\n",
       "      <td>...</td>\n",
       "      <td>...</td>\n",
       "    </tr>\n",
       "    <tr>\n",
       "      <th>283</th>\n",
       "      <td>32</td>\n",
       "      <td>Zacatecas</td>\n",
       "      <td>2017-01-01</td>\n",
       "      <td>8</td>\n",
       "      <td>Gasto de Obra Pública</td>\n",
       "      <td>1992505733</td>\n",
       "    </tr>\n",
       "    <tr>\n",
       "      <th>284</th>\n",
       "      <td>32</td>\n",
       "      <td>Zacatecas</td>\n",
       "      <td>2018-01-01</td>\n",
       "      <td>8</td>\n",
       "      <td>Gasto de Obra Pública</td>\n",
       "      <td>2284882371</td>\n",
       "    </tr>\n",
       "    <tr>\n",
       "      <th>285</th>\n",
       "      <td>32</td>\n",
       "      <td>Zacatecas</td>\n",
       "      <td>2019-01-01</td>\n",
       "      <td>8</td>\n",
       "      <td>Gasto de Obra Pública</td>\n",
       "      <td>2567673138</td>\n",
       "    </tr>\n",
       "    <tr>\n",
       "      <th>286</th>\n",
       "      <td>32</td>\n",
       "      <td>Zacatecas</td>\n",
       "      <td>2020-01-01</td>\n",
       "      <td>8</td>\n",
       "      <td>Gasto de Obra Pública</td>\n",
       "      <td>2010497486</td>\n",
       "    </tr>\n",
       "    <tr>\n",
       "      <th>287</th>\n",
       "      <td>32</td>\n",
       "      <td>Zacatecas</td>\n",
       "      <td>2021-01-01</td>\n",
       "      <td>8</td>\n",
       "      <td>Gasto de Obra Pública</td>\n",
       "      <td>1084559922</td>\n",
       "    </tr>\n",
       "  </tbody>\n",
       "</table>\n",
       "<p>288 rows × 6 columns</p>\n",
       "</div>"
      ],
      "text/plain": [
       "     State ID           State       Year Expenses Type ID  \\\n",
       "0           1  Aguascalientes 2013-01-01                8   \n",
       "1           1  Aguascalientes 2014-01-01                8   \n",
       "2           1  Aguascalientes 2015-01-01                8   \n",
       "3           1  Aguascalientes 2016-01-01                8   \n",
       "4           1  Aguascalientes 2017-01-01                8   \n",
       "..        ...             ...        ...              ...   \n",
       "283        32       Zacatecas 2017-01-01                8   \n",
       "284        32       Zacatecas 2018-01-01                8   \n",
       "285        32       Zacatecas 2019-01-01                8   \n",
       "286        32       Zacatecas 2020-01-01                8   \n",
       "287        32       Zacatecas 2021-01-01                8   \n",
       "\n",
       "             Expenses Type  Amount Approved  \n",
       "0    Gasto de Obra Pública       1511908040  \n",
       "1    Gasto de Obra Pública       1865135779  \n",
       "2    Gasto de Obra Pública       1659723400  \n",
       "3    Gasto de Obra Pública       1717532284  \n",
       "4    Gasto de Obra Pública       1230564370  \n",
       "..                     ...              ...  \n",
       "283  Gasto de Obra Pública       1992505733  \n",
       "284  Gasto de Obra Pública       2284882371  \n",
       "285  Gasto de Obra Pública       2567673138  \n",
       "286  Gasto de Obra Pública       2010497486  \n",
       "287  Gasto de Obra Pública       1084559922  \n",
       "\n",
       "[288 rows x 6 columns]"
      ]
     },
     "execution_count": 10,
     "metadata": {},
     "output_type": "execute_result"
    }
   ],
   "source": [
    "# Exploramos el dataframe\n",
    "df_budget"
   ]
  },
  {
   "cell_type": "code",
   "execution_count": 11,
   "id": "3841d5ba-efe2-41e6-b984-4f54da44aaef",
   "metadata": {},
   "outputs": [
    {
     "data": {
      "text/plain": [
       "State ID            0\n",
       "State               0\n",
       "Year                0\n",
       "Expenses Type ID    0\n",
       "Expenses Type       0\n",
       "Amount Approved     0\n",
       "dtype: int64"
      ]
     },
     "execution_count": 11,
     "metadata": {},
     "output_type": "execute_result"
    }
   ],
   "source": [
    "# Observamos si existen datos faltantes\n",
    "df_budget.isnull().sum()"
   ]
  },
  {
   "cell_type": "markdown",
   "id": "7189beb4-548c-4a04-8fa3-fb4007dbaed5",
   "metadata": {},
   "source": [
    "## 2. EDA automático utilizando Pandas-profiling\n",
    "Análisis exploratiorio de datos automático generado en html."
   ]
  },
  {
   "cell_type": "markdown",
   "id": "742439f0-747b-4f0f-9286-135d770bb5ee",
   "metadata": {},
   "source": [
    "### 2.1 EDA: Tidy_accidentes"
   ]
  },
  {
   "cell_type": "code",
   "execution_count": null,
   "id": "f0d71975-24ea-4f23-844b-71a35b4cce8c",
   "metadata": {},
   "outputs": [
    {
     "data": {
      "application/vnd.jupyter.widget-view+json": {
       "model_id": "3af4466d430943c88c4bc15e9eef5e13",
       "version_major": 2,
       "version_minor": 0
      },
      "text/plain": [
       "Summarize dataset:   0%|          | 0/5 [00:00<?, ?it/s]"
      ]
     },
     "metadata": {},
     "output_type": "display_data"
    }
   ],
   "source": [
    "# Generamos el reporte en formato html usando pandas-profiling\n",
    "prof = ProfileReport(tidy_accidentes)\n",
    "prof.to_file(output_file='EDA_accientes.html')"
   ]
  },
  {
   "cell_type": "markdown",
   "id": "0ed5ff82-8257-435a-8169-7085f8e0d590",
   "metadata": {},
   "source": [
    "### 2.2 EDA: Tidy_conservacion"
   ]
  },
  {
   "cell_type": "code",
   "execution_count": null,
   "id": "4eb19366-317b-4cbf-8355-ce07dbb663aa",
   "metadata": {},
   "outputs": [],
   "source": [
    "# Generamos el reporte en formato html usando pandas-profiling\n",
    "prof = ProfileReport(tidy_conservacion)\n",
    "prof.to_file(output_file='EDA_conservacion.html')"
   ]
  },
  {
   "cell_type": "markdown",
   "id": "163c78b8-ec6e-45d9-ad9f-6f8631829ba1",
   "metadata": {},
   "source": [
    "### 2.3 EDA: df_budget"
   ]
  },
  {
   "cell_type": "code",
   "execution_count": 8,
   "id": "753f3c3e-67df-42a7-bc0e-1d94f220cca5",
   "metadata": {},
   "outputs": [
    {
     "name": "stdout",
     "output_type": "stream",
     "text": [
      "<class 'pandas.core.frame.DataFrame'>\n",
      "RangeIndex: 288 entries, 0 to 287\n",
      "Data columns (total 6 columns):\n",
      " #   Column            Non-Null Count  Dtype   \n",
      "---  ------            --------------  -----   \n",
      " 0   State ID          288 non-null    int64   \n",
      " 1   State             288 non-null    category\n",
      " 2   Year              288 non-null    int64   \n",
      " 3   Expenses Type ID  288 non-null    category\n",
      " 4   Expenses Type     288 non-null    object  \n",
      " 5   Amount Approved   288 non-null    int64   \n",
      "dtypes: category(2), int64(3), object(1)\n",
      "memory usage: 11.1+ KB\n"
     ]
    }
   ],
   "source": [
    "# Generamos el reporte en formato html usando pandas-profiling\n",
    "prof = ProfileReport(df_budget)\n",
    "prof.to_file(output_file='EDA_budget.html')"
   ]
  },
  {
   "cell_type": "markdown",
   "id": "5249d7a1-fff1-497f-a42e-6870c04c8595",
   "metadata": {},
   "source": [
    "## 3. EDA orientado a relación entre variables\n",
    "\n",
    "Abordaremos variables más específicas para estudiar la relación que nos interesa."
   ]
  },
  {
   "cell_type": "markdown",
   "id": "8c740a97-18da-4273-995f-5315b4cbe49c",
   "metadata": {},
   "source": [
    "### 3.1 Accidentes: frecuencia, tipo y causa"
   ]
  },
  {
   "cell_type": "code",
   "execution_count": null,
   "id": "77c0f167-e8c0-41fa-b164-edd6b3e207f2",
   "metadata": {},
   "outputs": [],
   "source": [
    "df_accidentes['CAUSAACCI'].value_counts()"
   ]
  },
  {
   "cell_type": "code",
   "execution_count": null,
   "id": "8ae23700-88da-4e4a-b372-9814c57d8dfe",
   "metadata": {},
   "outputs": [],
   "source": []
  }
 ],
 "metadata": {
  "kernelspec": {
   "display_name": "Python 3 (ipykernel)",
   "language": "python",
   "name": "python3"
  },
  "language_info": {
   "codemirror_mode": {
    "name": "ipython",
    "version": 3
   },
   "file_extension": ".py",
   "mimetype": "text/x-python",
   "name": "python",
   "nbconvert_exporter": "python",
   "pygments_lexer": "ipython3",
   "version": "3.9.7"
  }
 },
 "nbformat": 4,
 "nbformat_minor": 5
}
